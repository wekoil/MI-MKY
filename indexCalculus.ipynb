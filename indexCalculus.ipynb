{
 "cells": [
  {
   "cell_type": "code",
   "execution_count": 1,
   "metadata": {},
   "outputs": [],
   "source": [
    "from __future__ import print_function"
   ]
  },
  {
   "cell_type": "markdown",
   "metadata": {},
   "source": [
    "Nastavime parametry ze zadani. Mel jsem problem s nastavenim sveho vlastniho modulu v telesu, ale sage si defaultne zvolil ten ze zadani."
   ]
  },
  {
   "cell_type": "code",
   "execution_count": 2,
   "metadata": {},
   "outputs": [
    {
     "name": "stdout",
     "output_type": "stream",
     "text": [
      "Mame teleso: Finite Field in x of size 2^47 a v nem modulo: x^47 + x^5 + 1\n"
     ]
    }
   ],
   "source": [
    "p = 2\n",
    "n = 47\n",
    "mod = 'x^47 + x^5 + 1'\n",
    "# G = GF(p^n, name = 'x', modulus=mod)\n",
    "G = GF(p^n, name = 'x')\n",
    "print('Mame teleso:', G, 'a v nem modulo:', G.modulus())"
   ]
  },
  {
   "cell_type": "markdown",
   "metadata": {},
   "source": [
    "1. Faze algoritmu.\n",
    "Nastavime mnozinu S ireducibilnimi polynomy."
   ]
  },
  {
   "cell_type": "code",
   "execution_count": 3,
   "metadata": {},
   "outputs": [
    {
     "name": "stdout",
     "output_type": "stream",
     "text": [
      "Mame 41 ireducibilnich polynomu stupne max. 7\n"
     ]
    }
   ],
   "source": [
    "R.<x> = PolynomialRing(Integers(2))\n",
    "s = {}\n",
    "max_polynomial = G.gen()\n",
    "# zde nastavime max polynomu\n",
    "max_deg = 7\n",
    "cnt = 0\n",
    "for i in R.polynomials(max_degree=max_deg):\n",
    "    if i.is_irreducible():\n",
    "        s[i] = cnt\n",
    "        cnt += 1\n",
    "        max_polynomial = i\n",
    "#         print(i)\n",
    "print('Mame', len(s), 'ireducibilnich polynomu stupne max.', max_deg)"
   ]
  },
  {
   "cell_type": "markdown",
   "metadata": {},
   "source": [
    "Nastavime promene pro cyklus."
   ]
  },
  {
   "cell_type": "code",
   "execution_count": 4,
   "metadata": {},
   "outputs": [],
   "source": [
    "soustava = []\n",
    "vecs = []"
   ]
  },
  {
   "cell_type": "markdown",
   "metadata": {},
   "source": [
    "2. Faze\n",
    "\n",
    "Hledam nahodne vhodna l, pro ktera plati, ze x^l se da faktorizovat na nase ireducibilni polynomy v mnozine S.\n",
    "\n",
    "Sage nam pomerne rychle faktorizuje polynomy. My se pouze podivame na nejvyssi z nich a pokud je mensi nez nas nejvyssi ireducibilni polynom, pridame ho do soustavy."
   ]
  },
  {
   "cell_type": "code",
   "execution_count": 5,
   "metadata": {},
   "outputs": [],
   "source": [
    "\n",
    "while len(soustava) < len(s):\n",
    "    l = floor(random()*(p^n))\n",
    "    if G(max_polynomial) >= G(G.polynomial_ring()((G.gen()**l)).factor()[-1][0]):\n",
    "        rovnice = [l, G.polynomial_ring()((G.gen()**l)).factor()]\n",
    "        soustava.append(rovnice)\n",
    "#         print(G.polynomial_ring()((G.gen()**l)))\n",
    "#         for ii in G.polynomial_ring()((G.gen()**l)).factor():\n",
    "#             print(ii[0])\n",
    "#             print(s[ii[0]])"
   ]
  },
  {
   "cell_type": "markdown",
   "metadata": {},
   "source": [
    "Polynomy pro ktere mame vyresit DLP."
   ]
  },
  {
   "cell_type": "code",
   "execution_count": 6,
   "metadata": {},
   "outputs": [],
   "source": [
    "h1 = G(x^45 + x^44 + x^43 + x^39 + x^38 + x^37 + x^34 + x^31 + x^28 + x^24 + x^20 + x^19 + x^12 + x^11 + x^8 + x^7 + x^2 + 1)\n",
    "h2 = G(x^46 + x^45 + x^38 + x^31 + x^30 + x^29 + x^25 + x^24 + x^22 + x^18 + x^17 + x^14 + x^9 + x^7 + x)"
   ]
  },
  {
   "cell_type": "markdown",
   "metadata": {},
   "source": [
    "3. Faze\n",
    "\n",
    "Soustavu rovnic zapisu do matice."
   ]
  },
  {
   "cell_type": "code",
   "execution_count": 7,
   "metadata": {},
   "outputs": [],
   "source": [
    "vecs = []\n",
    "for ii in soustava:\n",
    "    vec = [0] * (len(s))\n",
    "    for i in ii[1]:\n",
    "        vec[s[i[0]]] = i[1]\n",
    "    vecs.append(vec)\n",
    "\n",
    "M = IntegerModRing(G.order()-1)\n",
    "# print(len(vecs))\n",
    "matice = Matrix(M,vecs)"
   ]
  },
  {
   "cell_type": "markdown",
   "metadata": {},
   "source": [
    "Vytvorime vektor prave strany."
   ]
  },
  {
   "cell_type": "code",
   "execution_count": 8,
   "metadata": {},
   "outputs": [],
   "source": [
    "prava_strana = []\n",
    "for i in soustava:\n",
    "    prava_strana.append(i[0])"
   ]
  },
  {
   "cell_type": "markdown",
   "metadata": {},
   "source": [
    "Vyresime soustavu rovnic."
   ]
  },
  {
   "cell_type": "code",
   "execution_count": 9,
   "metadata": {},
   "outputs": [],
   "source": [
    "\n",
    "X = matice.solve_right(vector(prava_strana))"
   ]
  },
  {
   "cell_type": "markdown",
   "metadata": {},
   "source": [
    "4. Faze\n",
    "\n",
    "Hledam l, pro ktere plati, ze h*g^-l se da faktorizovat na nase ireducibilni polynomy. Opet vyuzijeme sage pro faktorizaci."
   ]
  },
  {
   "cell_type": "code",
   "execution_count": 11,
   "metadata": {},
   "outputs": [
    {
     "name": "stdout",
     "output_type": "stream",
     "text": [
      "80095213282333\n"
     ]
    }
   ],
   "source": [
    "for i in range(100000):\n",
    "    l = floor(random()*(p^n))\n",
    "    \n",
    "    if G(max_polynomial) >= G(G.polynomial_ring()(h2*(G.gen()**(-l))).factor()[-1][0]):\n",
    "        print(l)\n",
    "        break"
   ]
  },
  {
   "cell_type": "markdown",
   "metadata": {},
   "source": [
    "Spocitame DLP."
   ]
  },
  {
   "cell_type": "code",
   "execution_count": 12,
   "metadata": {},
   "outputs": [
    {
     "name": "stdout",
     "output_type": "stream",
     "text": [
      "125832502466259\n"
     ]
    }
   ],
   "source": [
    "cislo = 0\n",
    "for i in G.polynomial_ring()(h2*(G.gen()**(-l))).factor():\n",
    "    cislo += (X[s[i[0]]]*i[1])\n",
    "cislo += l\n",
    "cislo = Mod(cislo, G.order()-1) \n",
    "print(cislo)"
   ]
  },
  {
   "cell_type": "markdown",
   "metadata": {},
   "source": [
    "Podivame se, zdali jsme nasli dobre reseni."
   ]
  },
  {
   "cell_type": "code",
   "execution_count": 13,
   "metadata": {},
   "outputs": [
    {
     "data": {
      "text/plain": [
       "True"
      ]
     },
     "execution_count": 13,
     "metadata": {},
     "output_type": "execute_result"
    }
   ],
   "source": [
    "G.gen()**cislo == h2"
   ]
  },
  {
   "cell_type": "markdown",
   "metadata": {},
   "source": [
    "Vidime, ze ano, totez udelame pro druhe h."
   ]
  },
  {
   "cell_type": "code",
   "execution_count": 14,
   "metadata": {},
   "outputs": [
    {
     "name": "stdout",
     "output_type": "stream",
     "text": [
      "16754202874732\n"
     ]
    }
   ],
   "source": [
    "for i in range(100000):\n",
    "    l = floor(random()*(p^n))\n",
    "    \n",
    "    if G(max_polynomial) >= G(G.polynomial_ring()(h1*(G.gen()**(-l))).factor()[-1][0]):\n",
    "        print(l)\n",
    "        break"
   ]
  },
  {
   "cell_type": "code",
   "execution_count": 15,
   "metadata": {},
   "outputs": [
    {
     "name": "stdout",
     "output_type": "stream",
     "text": [
      "136914677089945\n"
     ]
    }
   ],
   "source": [
    "cislo = 0\n",
    "for i in G.polynomial_ring()(h1*(G.gen()**(-l))).factor():\n",
    "    cislo += (X[s[i[0]]]*i[1])\n",
    "cislo += l\n",
    "cislo = Mod(cislo, G.order()-1) \n",
    "print(cislo)"
   ]
  },
  {
   "cell_type": "code",
   "execution_count": 16,
   "metadata": {},
   "outputs": [
    {
     "data": {
      "text/plain": [
       "True"
      ]
     },
     "execution_count": 16,
     "metadata": {},
     "output_type": "execute_result"
    }
   ],
   "source": [
    "G.gen()**cislo == h1"
   ]
  },
  {
   "cell_type": "markdown",
   "metadata": {},
   "source": [
    "V reseni se jeste muzeme utvrdit pouzitim sage dlp, ktere nam vrati stejne vysledky jako algoritmus vyse pouze v mnohem kratsi case (Podle dokumentace vyuziva Pohlig–Hellman a Baby-step giant-step)."
   ]
  },
  {
   "cell_type": "code",
   "execution_count": 18,
   "metadata": {},
   "outputs": [
    {
     "name": "stdout",
     "output_type": "stream",
     "text": [
      "125832502466259\n",
      "136914677089945\n"
     ]
    }
   ],
   "source": [
    "print(discrete_log(h2, G.gen(), G.order()-1))\n",
    "print(discrete_log(h1, G.gen(), G.order()-1))"
   ]
  }
 ],
 "metadata": {
  "kernelspec": {
   "display_name": "SageMath 8.6",
   "language": "",
   "name": "sagemath"
  },
  "language_info": {
   "codemirror_mode": {
    "name": "ipython",
    "version": 2
   },
   "file_extension": ".py",
   "mimetype": "text/x-python",
   "name": "python",
   "nbconvert_exporter": "python",
   "pygments_lexer": "ipython2",
   "version": "2.7.15"
  }
 },
 "nbformat": 4,
 "nbformat_minor": 2
}
