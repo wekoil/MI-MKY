{
 "cells": [
  {
   "cell_type": "code",
   "execution_count": 55,
   "metadata": {
    "collapsed": true
   },
   "outputs": [],
   "source": [
    "from __future__ import print_function\n",
    "import numpy as np"
   ]
  },
  {
   "cell_type": "code",
   "execution_count": 2,
   "metadata": {
    "collapsed": false
   },
   "outputs": [
    {
     "name": "stdout",
     "output_type": "stream",
     "text": [
      "Mame teleso: Finite Field in x of size 2^10 a v nem modulo: x^10 + x^6 + x^5 + x^3 + x^2 + x + 1\n"
     ]
    }
   ],
   "source": [
    "p = 2\n",
    "n = 10\n",
    "mod = x^47 + x^5 + 1\n",
    "# G = GF(p^n, name = 'x', modulus=mod)\n",
    "G = GF(p^n, name = 'x')\n",
    "print('Mame teleso:', G, 'a v nem modulo:', G.modulus())"
   ]
  },
  {
   "cell_type": "code",
   "execution_count": 8,
   "metadata": {
    "collapsed": false
   },
   "outputs": [
    {
     "name": "stdout",
     "output_type": "stream",
     "text": [
      "x\n",
      "x + 1\n",
      "x^2 + x + 1\n",
      "x^3 + x + 1\n",
      "x^3 + x^2 + 1\n",
      "x^4 + x + 1\n",
      "x^4 + x^3 + 1\n",
      "x^4 + x^3 + x^2 + x + 1\n",
      "x^5 + x^2 + 1\n",
      "x^5 + x^3 + 1\n",
      "x^5 + x^3 + x^2 + x + 1\n",
      "x^5 + x^4 + x^2 + x + 1\n",
      "x^5 + x^4 + x^3 + x + 1\n",
      "x^5 + x^4 + x^3 + x^2 + 1\n",
      "Mame 14 ireducibilnich polynomu stupne max. 5\n"
     ]
    }
   ],
   "source": [
    "R.<x> = PolynomialRing(Integers(2))\n",
    "s = []\n",
    "# zde nastavime max polynomu\n",
    "max_deg = 5\n",
    "for i in R.polynomials(max_degree=max_deg):\n",
    "    if i.is_irreducible():\n",
    "        s.append(i)\n",
    "        print(i)\n",
    "print('Mame', len(s), 'ireducibilnich polynomu stupne max.', max_deg)"
   ]
  },
  {
   "cell_type": "code",
   "execution_count": 4,
   "metadata": {
    "collapsed": true
   },
   "outputs": [],
   "source": [
    "h1 = G(x^45 + x^44 + x^43 + x^39 + x^38 + x^37 + x^34 + x^31 + x^28 + x^24 + x^20 + x^19 + x^12 + x^11 + x^8 + x^7 + x^2 + 1)\n",
    "h2 = G(x^46 + x^45 + x^38 + x^31 + x^30 + x^29 + x^25 + x^24 + x^22 + x^18 + x^17 + x^14 + x^9 + x^7 + x)"
   ]
  },
  {
   "cell_type": "code",
   "execution_count": 5,
   "metadata": {
    "collapsed": false
   },
   "outputs": [
    {
     "name": "stdout",
     "output_type": "stream",
     "text": [
      "x^6 + x^4 + x + 1\n"
     ]
    }
   ],
   "source": [
    "# vybereme nahodne l\n",
    "l = floor(random()*(p^n))\n",
    "#spocteme g^l\n",
    "print(G.gen()^l)"
   ]
  },
  {
   "cell_type": "code",
   "execution_count": 6,
   "metadata": {
    "collapsed": false
   },
   "outputs": [
    {
     "data": {
      "text/plain": [
       "0"
      ]
     },
     "execution_count": 6,
     "metadata": {},
     "output_type": "execute_result"
    }
   ],
   "source": [
    "G(0)"
   ]
  },
  {
   "cell_type": "code",
   "execution_count": 31,
   "metadata": {
    "collapsed": false
   },
   "outputs": [
    {
     "name": "stdout",
     "output_type": "stream",
     "text": [
      "[393, 1, 9, 4, 4, 8, 1, 7, 0, 9, 5, 0, 0, 0, 0]\n",
      "[401, 5, 3, 3, 1, 1, 1, 9, 0, 0, 0, 0, 0, 0, 0]\n",
      "[401, 5, 3, 3, 1, 1, 1, 9, 0, 0, 0, 0, 0, 0, 0]\n",
      "[474, 7, 0, 6, 9, 0, 4, 4, 9, 0, 0, 0, 0, 0, 0]\n",
      "[630, 1, 0, 7, 3, 7, 3, 8, 0, 7, 9, 9, 0, 0, 0]\n",
      "[953, 7, 8, 2, 9, 2, 9, 6, 1, 9, 0, 0, 0, 0, 0]\n",
      "[736, 3, 6, 4, 3, 6, 7, 6, 3, 6, 6, 7, 7, 0, 0]\n",
      "[66, 8, 9, 6, 0, 0, 0, 0, 0, 0, 0, 0, 0, 0, 0]\n",
      "[821, 9, 0, 1, 1, 2, 5, 3, 3, 2, 2, 1, 0, 0, 0]\n",
      "[428, 6, 9, 1, 1, 1, 6, 3, 3, 3, 2, 8, 7, 5, 4]\n",
      "Nasli jsme 150 rovnic\n",
      "[393, 1, 9, 4, 4, 8, 1, 7, 0, 9, 5, 0, 0, 0, 0, 401, 5, 3, 3, 1, 1, 1, 9, 0, 0, 0, 0, 0, 0, 0, 401, 5, 3, 3, 1, 1, 1, 9, 0, 0, 0, 0, 0, 0, 0, 474, 7, 0, 6, 9, 0, 4, 4, 9, 0, 0, 0, 0, 0, 0, 630, 1, 0, 7, 3, 7, 3, 8, 0, 7, 9, 9, 0, 0, 0, 953, 7, 8, 2, 9, 2, 9, 6, 1, 9, 0, 0, 0, 0, 0, 736, 3, 6, 4, 3, 6, 7, 6, 3, 6, 6, 7, 7, 0, 0, 66, 8, 9, 6, 0, 0, 0, 0, 0, 0, 0, 0, 0, 0, 0, 821, 9, 0, 1, 1, 2, 5, 3, 3, 2, 2, 1, 0, 0, 0, 428, 6, 9, 1, 1, 1, 6, 3, 3, 3, 2, 8, 7, 5, 4]\n"
     ]
    }
   ],
   "source": [
    "rozlozeni = []\n",
    "for _ in range(1000):\n",
    "    act = G(x)\n",
    "    l = floor(random()*(p^n))\n",
    "    mocniny = [0] * (len(s) + 1)\n",
    "    mocniny[0] = l\n",
    "    for i, pol in enumerate(s):\n",
    "        r = floor(random()*n)\n",
    "        mocniny[i+1] = r\n",
    "        act = act * G(pol^r)\n",
    "#         print act\n",
    "        if act == G.gen()^l:\n",
    "            rozlozeni.extend(mocniny)\n",
    "            print(mocniny)\n",
    "#             print(G.gen(), end='')\n",
    "#             print('^', end='')\n",
    "#             print(l, end='')\n",
    "#             print(' =', end='')\n",
    "#             for idx, mocnina in enumerate(mocniny[1:]):\n",
    "#                 print(mocnina, end='')\n",
    "#                 print('x', end='')\n",
    "#                 print(idx+1, end='')\n",
    "#                 print(' + ', end='')\n",
    "#             print()\n",
    "            \n",
    "#         if act == h2*G.gen()^-l:\n",
    "#             rozlozeni.append(mocniny)\n",
    "#             print(h2, end='')\n",
    "#             print('*', end='')\n",
    "#             print(G.gen(), end='')\n",
    "#             print('^-', end='')\n",
    "#             print(l, end='')\n",
    "#             print(' =', end='')\n",
    "#             for idx, mocnina in enumerate(mocniny):\n",
    "#                 print(mocnina, end='')\n",
    "#                 print('x', end='')\n",
    "#                 print(idx+1, end='')\n",
    "#                 print(' + ', end='')\n",
    "#             print()\n",
    "            \n",
    "            \n",
    "print('Nasli jsme', len(rozlozeni), 'rovnic')\n",
    "print(rozlozeni)"
   ]
  },
  {
   "cell_type": "code",
   "execution_count": 32,
   "metadata": {
    "collapsed": true
   },
   "outputs": [],
   "source": [
    "def chunks(l, n):\n",
    "    \"\"\"Yield successive n-sized chunks from l.\"\"\"\n",
    "    for i in range(0, len(l), n):\n",
    "        yield l[i:i + n]"
   ]
  },
  {
   "cell_type": "code",
   "execution_count": 33,
   "metadata": {
    "collapsed": false
   },
   "outputs": [
    {
     "name": "stdout",
     "output_type": "stream",
     "text": [
      "[393, 1, 9, 4, 4, 8, 1, 7, 0, 9, 5, 0, 0, 0, 0]\n",
      "[401, 5, 3, 3, 1, 1, 1, 9, 0, 0, 0, 0, 0, 0, 0]\n",
      "[401, 5, 3, 3, 1, 1, 1, 9, 0, 0, 0, 0, 0, 0, 0]\n",
      "[474, 7, 0, 6, 9, 0, 4, 4, 9, 0, 0, 0, 0, 0, 0]\n",
      "[630, 1, 0, 7, 3, 7, 3, 8, 0, 7, 9, 9, 0, 0, 0]\n",
      "[953, 7, 8, 2, 9, 2, 9, 6, 1, 9, 0, 0, 0, 0, 0]\n",
      "[736, 3, 6, 4, 3, 6, 7, 6, 3, 6, 6, 7, 7, 0, 0]\n",
      "[66, 8, 9, 6, 0, 0, 0, 0, 0, 0, 0, 0, 0, 0, 0]\n",
      "[821, 9, 0, 1, 1, 2, 5, 3, 3, 2, 2, 1, 0, 0, 0]\n",
      "[428, 6, 9, 1, 1, 1, 6, 3, 3, 3, 2, 8, 7, 5, 4]\n"
     ]
    }
   ],
   "source": [
    "for rovnice in chunks(rozlozeni, len(s)+1):\n",
    "    print(rovnice)"
   ]
  },
  {
   "cell_type": "code",
   "execution_count": 23,
   "metadata": {
    "collapsed": false
   },
   "outputs": [
    {
     "name": "stdout",
     "output_type": "stream",
     "text": [
      "x^924 =8x1 + 1x2 + 2x3 + 8x4 + 2x5 + 1x6 + 4x7 + 6x8 + 9x9 + 9x10 + 7x11 + 7x12 + 1x13 + 2x14 + \n",
      "x^189 =4x1 + 3x2 + 8x3 + 4x4 + 4x5 + 1x6 + 5x7 + 1x8 + 2x9 + 0x10 + 0x11 + 7x12 + 1x13 + 0x14 + \n",
      "x^140 =7x1 + 4x2 + 8x3 + 1x4 + 7x5 + 7x6 + 2x7 + 1x8 + 6x9 + 4x10 + 4x11 + 3x12 + 4x13 + 4x14 + \n",
      "x^68 =0x1 + 8x2 + 1x3 + 8x4 + 5x5 + 7x6 + 0x7 + 3x8 + 8x9 + 5x10 + 7x11 + 2x12 + 7x13 + 2x14 + \n",
      "x^7 =6x1 + 0x2 + 5x3 + 8x4 + 4x5 + 4x6 + 5x7 + 2x8 + 9x9 + 0x10 + 9x11 + 6x12 + 5x13 + 1x14 + \n",
      "x^7 =6x1 + 0x2 + 5x3 + 8x4 + 4x5 + 4x6 + 5x7 + 2x8 + 9x9 + 0x10 + 9x11 + 6x12 + 5x13 + 1x14 + \n",
      "x^509 =5x1 + 3x2 + 5x3 + 0x4 + 5x5 + 6x6 + 8x7 + 8x8 + 7x9 + 6x10 + 0x11 + 1x12 + 0x13 + 9x14 + \n",
      "x^287 =0x1 + 0x2 + 6x3 + 5x4 + 1x5 + 3x6 + 5x7 + 7x8 + 7x9 + 4x10 + 7x11 + 7x12 + 9x13 + 4x14 + \n",
      "x^380 =7x1 + 5x2 + 5x3 + 7x4 + 9x5 + 5x6 + 5x7 + 7x8 + 6x9 + 0x10 + 6x11 + 5x12 + 1x13 + 9x14 + \n",
      "x^572 =5x1 + 5x2 + 8x3 + 2x4 + 3x5 + 9x6 + 1x7 + 3x8 + 1x9 + 3x10 + 5x11 + 2x12 + 3x13 + 8x14 + \n",
      "x^992 =7x1 + 0x2 + 3x3 + 1x4 + 8x5 + 8x6 + 9x7 + 7x8 + 9x9 + 2x10 + 0x11 + 1x12 + 1x13 + 4x14 + \n",
      "x^153 =9x1 + 3x2 + 5x3 + 8x4 + 4x5 + 2x6 + 8x7 + 0x8 + 6x9 + 8x10 + 1x11 + 2x12 + 8x13 + 2x14 + \n",
      "x^643 =8x1 + 2x2 + 9x3 + 5x4 + 9x5 + 8x6 + 5x7 + 4x8 + 2x9 + 0x10 + 1x11 + 5x12 + 7x13 + 8x14 + \n",
      "x^166 =8x1 + 5x2 + 0x3 + 8x4 + 6x5 + 1x6 + 9x7 + 4x8 + 7x9 + 3x10 + 3x11 + 1x12 + 9x13 + 5x14 + \n"
     ]
    }
   ],
   "source": [
    "for rovnice in rozlozeni:\n",
    "    print(G.gen(), end='')\n",
    "    print('^', end='')\n",
    "    print(rovnice[0], end='')\n",
    "    print(' =', end='')\n",
    "    for idx, mocnina in enumerate(rovnice[1:]):\n",
    "        print(mocnina, end='')\n",
    "        print('x', end='')\n",
    "        print(idx+1, end='')\n",
    "        print(' + ', end='')\n",
    "    print()"
   ]
  },
  {
   "cell_type": "code",
   "execution_count": 61,
   "metadata": {
    "collapsed": false
   },
   "outputs": [
    {
     "name": "stdout",
     "output_type": "stream",
     "text": [
      "122 = 3x1 + 0x2 + 7x3 + 3x4 + 6x5 + 0x6 + 8x7 + 7x8 + 3x9 + 4x10 + 3x11 + 8x12 + 1x13 + 5x14 + \n",
      "563 = 4x1 + 9x2 + 9x3 + 8x4 + 6x5 + 8x6 + 9x7 + 0x8 + 1x9 + 9x10 + 1x11 + 5x12 + 2x13 + 6x14 + \n",
      "563 = 4x1 + 9x2 + 9x3 + 8x4 + 6x5 + 8x6 + 9x7 + 0x8 + 1x9 + 9x10 + 1x11 + 5x12 + 2x13 + 6x14 + \n",
      "236 = 7x1 + 5x2 + 1x3 + 7x4 + 3x5 + 7x6 + 9x7 + 3x8 + 5x9 + 5x10 + 9x11 + 5x12 + 0x13 + 5x14 + \n",
      "958 = 7x1 + 1x2 + 9x3 + 3x4 + 9x5 + 3x6 + 6x7 + 0x8 + 4x9 + 1x10 + 5x11 + 4x12 + 4x13 + 6x14 + \n",
      "651 = 3x1 + 8x2 + 2x3 + 1x4 + 4x5 + 4x6 + 0x7 + 1x8 + 2x9 + 2x10 + 3x11 + 4x12 + 6x13 + 4x14 + \n",
      "123 = 0x1 + 2x2 + 6x3 + 0x4 + 0x5 + 8x6 + 6x7 + 8x8 + 3x9 + 5x10 + 2x11 + 1x12 + 1x13 + 6x14 + \n",
      "559 = 9x1 + 7x2 + 3x3 + 5x4 + 9x5 + 1x6 + 9x7 + 7x8 + 7x9 + 9x10 + 8x11 + 8x12 + 0x13 + 6x14 + \n",
      "468 = 7x1 + 2x2 + 7x3 + 7x4 + 3x5 + 7x6 + 0x7 + 5x8 + 4x9 + 9x10 + 5x11 + 2x12 + 0x13 + 8x14 + \n",
      "882 = 8x1 + 1x2 + 9x3 + 2x4 + 5x5 + 7x6 + 7x7 + 7x8 + 4x9 + 8x10 + 6x11 + 7x12 + 2x13 + 8x14 + \n",
      "509 = 2x1 + 0x2 + 8x3 + 9x4 + 4x5 + 7x6 + 3x7 + 4x8 + 2x9 + 0x10 + 5x11 + 0x12 + 5x13 + 2x14 + \n",
      "414 = 0x1 + 4x2 + 3x3 + 1x4 + 0x5 + 0x6 + 3x7 + 8x8 + 6x9 + 6x10 + 1x11 + 3x12 + 3x13 + 4x14 + \n",
      "792 = 7x1 + 7x2 + 5x3 + 6x4 + 9x5 + 0x6 + 0x7 + 3x8 + 8x9 + 3x10 + 8x11 + 9x12 + 4x13 + 5x14 + \n",
      "584 = 4x1 + 6x2 + 2x3 + 5x4 + 1x5 + 7x6 + 8x7 + 5x8 + 6x9 + 1x10 + 9x11 + 8x12 + 9x13 + 1x14 + \n",
      "800 = 4x1 + 6x2 + 1x3 + 0x4 + 7x5 + 5x6 + 7x7 + 3x8 + 4x9 + 2x10 + 1x11 + 6x12 + 0x13 + 8x14 + \n",
      "63 = 7x1 + 2x2 + 9x3 + 9x4 + 6x5 + 5x6 + 6x7 + 0x8 + 6x9 + 1x10 + 0x11 + 9x12 + 1x13 + 4x14 + \n",
      "591 = 0x1 + 5x2 + 6x3 + 2x4 + 1x5 + 7x6 + 0x7 + 3x8 + 2x9 + 6x10 + 6x11 + 8x12 + 7x13 + 1x14 + \n",
      "337 = 1x1 + 8x2 + 5x3 + 8x4 + 3x5 + 0x6 + 5x7 + 6x8 + 9x9 + 9x10 + 3x11 + 0x12 + 9x13 + 5x14 + \n"
     ]
    }
   ],
   "source": [
    "for rovnice in rozlozeni:\n",
    "    print(rovnice[0], end='')\n",
    "    print(' = ', end='')\n",
    "    for idx, val in enumerate(rovnice[1:]):\n",
    "        print(val, end='')\n",
    "        print('x', end='')\n",
    "        print(idx+1, end='')\n",
    "        print(' + ', end='')\n",
    "    print()"
   ]
  },
  {
   "cell_type": "code",
   "execution_count": 48,
   "metadata": {
    "collapsed": false
   },
   "outputs": [],
   "source": [
    "prava_strana = []\n",
    "matice = []\n",
    "for rovnice in chunks(rozlozeni, len(s)+1):\n",
    "    prava_strana.append(rovnice[0])\n",
    "    matice.append(rovnice[1:])"
   ]
  },
  {
   "cell_type": "code",
   "execution_count": 57,
   "metadata": {
    "collapsed": false
   },
   "outputs": [],
   "source": [
    "A = np.array(matice)"
   ]
  },
  {
   "cell_type": "code",
   "execution_count": 58,
   "metadata": {
    "collapsed": true
   },
   "outputs": [],
   "source": [
    "B = Matrix(A)"
   ]
  },
  {
   "cell_type": "code",
   "execution_count": 60,
   "metadata": {
    "collapsed": false
   },
   "outputs": [],
   "source": [
    "W = vector(prava_strana)"
   ]
  },
  {
   "cell_type": "code",
   "execution_count": 66,
   "metadata": {
    "collapsed": false
   },
   "outputs": [],
   "source": [
    "X = B.solve_right(W)"
   ]
  },
  {
   "cell_type": "code",
   "execution_count": 69,
   "metadata": {
    "collapsed": false
   },
   "outputs": [
    {
     "data": {
      "text/plain": [
       "[1 9 4 4 8 1 7 0 9 5 0 0 0 0]\n",
       "[5 3 3 1 1 1 9 0 0 0 0 0 0 0]\n",
       "[5 3 3 1 1 1 9 0 0 0 0 0 0 0]\n",
       "[7 0 6 9 0 4 4 9 0 0 0 0 0 0]\n",
       "[1 0 7 3 7 3 8 0 7 9 9 0 0 0]\n",
       "[7 8 2 9 2 9 6 1 9 0 0 0 0 0]\n",
       "[3 6 4 3 6 7 6 3 6 6 7 7 0 0]\n",
       "[8 9 6 0 0 0 0 0 0 0 0 0 0 0]\n",
       "[9 0 1 1 2 5 3 3 2 2 1 0 0 0]\n",
       "[6 9 1 1 1 6 3 3 3 2 8 7 5 4]"
      ]
     },
     "execution_count": 69,
     "metadata": {},
     "output_type": "execute_result"
    }
   ],
   "source": [
    "B"
   ]
  },
  {
   "cell_type": "code",
   "execution_count": null,
   "metadata": {
    "collapsed": true
   },
   "outputs": [],
   "source": [
    "p"
   ]
  },
  {
   "cell_type": "code",
   "execution_count": 76,
   "metadata": {
    "collapsed": false
   },
   "outputs": [
    {
     "ename": "ValueError",
     "evalue": "The truth value of an array with more than one element is ambiguous. Use a.any() or a.all()",
     "output_type": "error",
     "traceback": [
      "\u001b[0;31m---------------------------------------------------------------------------\u001b[0m",
      "\u001b[0;31mValueError\u001b[0m                                Traceback (most recent call last)",
      "\u001b[0;32m<ipython-input-76-4925abf8ae25>\u001b[0m in \u001b[0;36m<module>\u001b[0;34m()\u001b[0m\n\u001b[1;32m      1\u001b[0m \u001b[0mM\u001b[0m \u001b[0;34m=\u001b[0m \u001b[0mMatrixSpace\u001b[0m\u001b[0;34m(\u001b[0m\u001b[0mGF\u001b[0m\u001b[0;34m(\u001b[0m\u001b[0mp\u001b[0m\u001b[0;34m**\u001b[0m\u001b[0mn\u001b[0m\u001b[0;34m)\u001b[0m\u001b[0;34m,\u001b[0m\u001b[0mlen\u001b[0m\u001b[0;34m(\u001b[0m\u001b[0ms\u001b[0m\u001b[0;34m)\u001b[0m\u001b[0;34m,\u001b[0m\u001b[0mlen\u001b[0m\u001b[0;34m(\u001b[0m\u001b[0mprava_strana\u001b[0m\u001b[0;34m)\u001b[0m\u001b[0;34m)\u001b[0m\u001b[0;34m\u001b[0m\u001b[0m\n\u001b[0;32m----> 2\u001b[0;31m \u001b[0mB\u001b[0m \u001b[0;34m=\u001b[0m \u001b[0mM\u001b[0m\u001b[0;34m(\u001b[0m\u001b[0mA\u001b[0m\u001b[0;34m)\u001b[0m\u001b[0;34m\u001b[0m\u001b[0m\n\u001b[0m",
      "\u001b[0;32m/usr/lib/sagemath/local/lib/python2.7/site-packages/sage/matrix/matrix_space.py\u001b[0m in \u001b[0;36m__call__\u001b[0;34m(self, entries, coerce, copy, sparse)\u001b[0m\n\u001b[1;32m    529\u001b[0m             \u001b[0;34m[\u001b[0m\u001b[0mt\u001b[0m\u001b[0;34m]\u001b[0m\u001b[0;34m\u001b[0m\u001b[0m\n\u001b[1;32m    530\u001b[0m         \"\"\"\n\u001b[0;32m--> 531\u001b[0;31m         \u001b[0;32mreturn\u001b[0m \u001b[0mself\u001b[0m\u001b[0;34m.\u001b[0m\u001b[0mmatrix\u001b[0m\u001b[0;34m(\u001b[0m\u001b[0mentries\u001b[0m\u001b[0;34m,\u001b[0m \u001b[0mcoerce\u001b[0m\u001b[0;34m,\u001b[0m \u001b[0mcopy\u001b[0m\u001b[0;34m)\u001b[0m\u001b[0;34m\u001b[0m\u001b[0m\n\u001b[0m\u001b[1;32m    532\u001b[0m \u001b[0;34m\u001b[0m\u001b[0m\n\u001b[1;32m    533\u001b[0m     \u001b[0;32mdef\u001b[0m \u001b[0mchange_ring\u001b[0m\u001b[0;34m(\u001b[0m\u001b[0mself\u001b[0m\u001b[0;34m,\u001b[0m \u001b[0mR\u001b[0m\u001b[0;34m)\u001b[0m\u001b[0;34m:\u001b[0m\u001b[0;34m\u001b[0m\u001b[0m\n",
      "\u001b[0;32m/usr/lib/sagemath/local/lib/python2.7/site-packages/sage/matrix/matrix_space.py\u001b[0m in \u001b[0;36mmatrix\u001b[0;34m(self, x, coerce, copy)\u001b[0m\n\u001b[1;32m   1486\u001b[0m                 \u001b[0mx\u001b[0m \u001b[0;34m=\u001b[0m \u001b[0mlist_to_dict\u001b[0m\u001b[0;34m(\u001b[0m\u001b[0mx\u001b[0m\u001b[0;34m,\u001b[0m \u001b[0mm\u001b[0m\u001b[0;34m,\u001b[0m \u001b[0mn\u001b[0m\u001b[0;34m)\u001b[0m\u001b[0;34m\u001b[0m\u001b[0m\n\u001b[1;32m   1487\u001b[0m                 \u001b[0mcopy\u001b[0m \u001b[0;34m=\u001b[0m \u001b[0mFalse\u001b[0m\u001b[0;34m\u001b[0m\u001b[0m\n\u001b[0;32m-> 1488\u001b[0;31m         \u001b[0;32mreturn\u001b[0m \u001b[0mMC\u001b[0m\u001b[0;34m(\u001b[0m\u001b[0mself\u001b[0m\u001b[0;34m,\u001b[0m \u001b[0mx\u001b[0m\u001b[0;34m,\u001b[0m \u001b[0mcopy\u001b[0m\u001b[0;34m=\u001b[0m\u001b[0mcopy\u001b[0m\u001b[0;34m,\u001b[0m \u001b[0mcoerce\u001b[0m\u001b[0;34m=\u001b[0m\u001b[0mcoerce\u001b[0m\u001b[0;34m)\u001b[0m\u001b[0;34m\u001b[0m\u001b[0m\n\u001b[0m\u001b[1;32m   1489\u001b[0m \u001b[0;34m\u001b[0m\u001b[0m\n\u001b[1;32m   1490\u001b[0m     \u001b[0;32mdef\u001b[0m \u001b[0mmatrix_space\u001b[0m\u001b[0;34m(\u001b[0m\u001b[0mself\u001b[0m\u001b[0;34m,\u001b[0m \u001b[0mnrows\u001b[0m\u001b[0;34m=\u001b[0m\u001b[0mNone\u001b[0m\u001b[0;34m,\u001b[0m \u001b[0mncols\u001b[0m\u001b[0;34m=\u001b[0m\u001b[0mNone\u001b[0m\u001b[0;34m,\u001b[0m \u001b[0msparse\u001b[0m\u001b[0;34m=\u001b[0m\u001b[0mFalse\u001b[0m\u001b[0;34m)\u001b[0m\u001b[0;34m:\u001b[0m\u001b[0;34m\u001b[0m\u001b[0m\n",
      "\u001b[0;32msage/matrix/matrix_gf2e_dense.pyx\u001b[0m in \u001b[0;36msage.matrix.matrix_gf2e_dense.Matrix_gf2e_dense.__init__ (/usr/lib/sagemath//src/build/cythonized/sage/matrix/matrix_gf2e_dense.c:4067)\u001b[0;34m()\u001b[0m\n",
      "\u001b[0;31mValueError\u001b[0m: The truth value of an array with more than one element is ambiguous. Use a.any() or a.all()"
     ]
    }
   ],
   "source": [
    "M = MatrixSpace(GF(p^n),len(s),len(prava_strana))\n",
    "B = M(A)"
   ]
  },
  {
   "cell_type": "code",
   "execution_count": 75,
   "metadata": {
    "collapsed": false
   },
   "outputs": [
    {
     "data": {
      "text/plain": [
       "[0 0 0 0 0 0 0 0 0 0]\n",
       "[0 0 0 0 0 0 0 0 0 0]\n",
       "[0 0 0 0 0 0 0 0 0 0]\n",
       "[0 0 0 0 0 0 0 0 0 0]\n",
       "[0 0 0 0 0 0 0 0 0 0]\n",
       "[0 0 0 0 0 0 0 0 0 0]\n",
       "[0 0 0 0 0 0 0 0 0 0]\n",
       "[0 0 0 0 0 0 0 0 0 0]\n",
       "[0 0 0 0 0 0 0 0 0 0]\n",
       "[0 0 0 0 0 0 0 0 0 0]\n",
       "[0 0 0 0 0 0 0 0 0 0]\n",
       "[0 0 0 0 0 0 0 0 0 0]\n",
       "[0 0 0 0 0 0 0 0 0 0]\n",
       "[0 0 0 0 0 0 0 0 0 0]"
      ]
     },
     "execution_count": 75,
     "metadata": {},
     "output_type": "execute_result"
    }
   ],
   "source": [
    "B."
   ]
  },
  {
   "cell_type": "code",
   "execution_count": null,
   "metadata": {
    "collapsed": true
   },
   "outputs": [],
   "source": []
  }
 ],
 "metadata": {
  "kernelspec": {
   "display_name": "SageMath 7.5.1",
   "language": "",
   "name": "sagemath"
  },
  "language_info": {
   "codemirror_mode": {
    "name": "ipython",
    "version": 2
   },
   "file_extension": ".py",
   "mimetype": "text/x-python",
   "name": "python",
   "nbconvert_exporter": "python",
   "pygments_lexer": "ipython2",
   "version": "2.7.13"
  }
 },
 "nbformat": 4,
 "nbformat_minor": 0
}
