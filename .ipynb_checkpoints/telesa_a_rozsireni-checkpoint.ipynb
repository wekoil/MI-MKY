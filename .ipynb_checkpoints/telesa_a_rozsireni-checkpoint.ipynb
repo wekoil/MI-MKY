{
 "cells": [
  {
   "cell_type": "markdown",
   "metadata": {},
   "source": [
    "# Konečná tělesa a jejich rozšíření\n",
    "\n",
    "*Tomáš Kalvoda & Štěpán Starosta, KAM FIT ČVUT, 2014-2017*\n",
    "\n",
    "V tomto worksheetu shrneme různé užitečné nástroje pro práci s konečnými tělesy v SageMath."
   ]
  },
  {
   "cell_type": "markdown",
   "metadata": {},
   "source": [
    "## Příkazy pro konstrukci konečného tělesa\n",
    "\n",
    "V SageMath máme k dispozici příkaz ``GF`` (alias pro ``FiniteField``). Chceme-li například pracovat v konečném tělese s prvočíselným počtem prvků, můžeme toto těleso ihned vytvořit následujícím příkazem."
   ]
  },
  {
   "cell_type": "code",
   "execution_count": 1,
   "metadata": {},
   "outputs": [
    {
     "ename": "NameError",
     "evalue": "name 'random_prime' is not defined",
     "output_type": "error",
     "traceback": [
      "\u001b[0;31m---------------------------------------------------------------------------\u001b[0m",
      "\u001b[0;31mNameError\u001b[0m                                 Traceback (most recent call last)",
      "\u001b[0;32m<ipython-input-1-6a2368a6e742>\u001b[0m in \u001b[0;36m<module>\u001b[0;34m()\u001b[0m\n\u001b[0;32m----> 1\u001b[0;31m \u001b[0mp\u001b[0m \u001b[0;34m=\u001b[0m \u001b[0mrandom_prime\u001b[0m\u001b[0;34m(\u001b[0m\u001b[0;36m1000\u001b[0m\u001b[0;34m,\u001b[0m \u001b[0mlbound\u001b[0m\u001b[0;34m=\u001b[0m\u001b[0;36m200\u001b[0m\u001b[0;34m)\u001b[0m \u001b[0;31m# zvolime si nahodne prvocislo vetsi nez 200 a mensi nez 1000\u001b[0m\u001b[0;34m\u001b[0m\u001b[0m\n\u001b[0m\u001b[1;32m      2\u001b[0m \u001b[0mT\u001b[0m \u001b[0;34m=\u001b[0m \u001b[0mGF\u001b[0m\u001b[0;34m(\u001b[0m\u001b[0mp\u001b[0m\u001b[0;34m)\u001b[0m\u001b[0;34m\u001b[0m\u001b[0m\n\u001b[1;32m      3\u001b[0m \u001b[0mT\u001b[0m\u001b[0;34m\u001b[0m\u001b[0m\n\u001b[1;32m      4\u001b[0m \u001b[0mshow\u001b[0m\u001b[0;34m(\u001b[0m\u001b[0mT\u001b[0m\u001b[0;34m)\u001b[0m\u001b[0;34m\u001b[0m\u001b[0m\n",
      "\u001b[0;31mNameError\u001b[0m: name 'random_prime' is not defined"
     ]
    }
   ],
   "source": [
    "p = random_prime(1000, lbound=200) # zvolime si nahodne prvocislo vetsi nez 200 a mensi nez 1000\n",
    "T = GF(p)\n",
    "T\n",
    "show(T)"
   ]
  },
  {
   "cell_type": "markdown",
   "metadata": {},
   "source": [
    "V $GF(p)$ se sčítá a násobí modulo $p$. Počítání v tomto konečném tělese funguje jak by člověk očekával."
   ]
  },
  {
   "cell_type": "code",
   "execution_count": null,
   "metadata": {},
   "outputs": [],
   "source": [
    "a = T(127) # dva testovaci prvky naseho telesa $T$\n",
    "b = T(199)\n",
    "print \"Soucin\"\n",
    "a * b\n",
    "print \"Soucet\"\n",
    "a + b\n",
    "print \"Sta mocnina prvku $a$\"\n",
    "a ^ 100\n",
    "print \"Inverze prvku $a$\"\n",
    "c = a^-1\n",
    "c\n",
    "print \"Test inverze\"\n",
    "a * c"
   ]
  },
  {
   "cell_type": "markdown",
   "metadata": {},
   "source": [
    "Dále nám SageMath umožňuje konstruovat konečná tělesa s řádem, který je neprvočíselný, tedy mocninou nějakého prvočísla $p$. Již víme jak tato tělesa konstruovat pomocí faktorizace. Nyní si ukážeme možnosti funkce ``GF``. Zkonstruujme těleso řádu $p^n$, kde $p$ jsme si zvolili dříve a $n = 5$."
   ]
  },
  {
   "cell_type": "code",
   "execution_count": null,
   "metadata": {},
   "outputs": [],
   "source": [
    "n = 5\n",
    "T.<x> = GF(p^n)\n",
    "T\n",
    "show(T)"
   ]
  },
  {
   "cell_type": "markdown",
   "metadata": {},
   "source": [
    "Pozor! Přikonstrukci tělesa neprvočíselného řádu je nutné SageMath říct, jak budeme označovat proměnnou příslušných polynomů. (Tomuto prvku se v SageMath také říká generátor, není to ovšem (obecně) generátor multiplikativní grupy!) Pokud Vám syntax v předchozí buňce přijde podivná, lze použít alternativní zápis:"
   ]
  },
  {
   "cell_type": "code",
   "execution_count": null,
   "metadata": {},
   "outputs": [],
   "source": [
    "T = GF(p^n, name='x')\n",
    "T"
   ]
  },
  {
   "cell_type": "markdown",
   "metadata": {},
   "source": [
    "Pokud SageMath neřekneme, v jakém modulu chceme pracovat, sám zvolí ireducibilní (nad $GF(p)$) polynom požadovaného řádu $n$. Jsme-li zvědaví, můžeme si tento polynom snadno zjistit."
   ]
  },
  {
   "cell_type": "code",
   "execution_count": null,
   "metadata": {},
   "outputs": [],
   "source": [
    "T.modulus() # Ireducibilni polynom telesa v kterem pracujeme."
   ]
  },
  {
   "cell_type": "markdown",
   "metadata": {},
   "source": [
    "Podobně jako v předchozím příkladě (těleso prvočíselného řádu) se podívejme jak lze provádět algebraické operace v tomto konečném tělese. Nejprve zkonstuujme dva prvky tělesa $T$."
   ]
  },
  {
   "cell_type": "code",
   "execution_count": null,
   "metadata": {},
   "outputs": [],
   "source": [
    "a = 5*x^6 + 7*x^2 +1   # vsimnete si, ze Sage automaticky zvoli vhodneho reprezentanta z [a].\n",
    "a\n",
    "b = T('7x+x^2')      # dalsi mozny zpusob konstrukce prvku $T$\n",
    "b\n",
    "type(b)"
   ]
  },
  {
   "cell_type": "markdown",
   "metadata": {},
   "source": [
    "Poznamenejme, že v prvním případě SageMath pozná, že mluvíme o prvku $T$, protože jsme použili 'x' k označení formální proměnné polynomů. Například následující pokusy zřejmě nefungují."
   ]
  },
  {
   "cell_type": "code",
   "execution_count": null,
   "metadata": {},
   "outputs": [],
   "source": [
    "5*y # y neni definovano"
   ]
  },
  {
   "cell_type": "code",
   "execution_count": null,
   "metadata": {},
   "outputs": [],
   "source": [
    "T('y') # y neni formalni promenna polynomu, Sage\n",
    "       # se proto proto y snazi prevest na koeficient (integer), ale\n",
    "       # y neni vubec definovano\n",
    "       # (bylo-li by y definovano a SageMath by znal nejaky rozumny zpusob, jak jej prevest na prvek z T, pokusi se o to)"
   ]
  },
  {
   "cell_type": "markdown",
   "metadata": {},
   "source": [
    "Několik pokusných algebraických operací."
   ]
  },
  {
   "cell_type": "code",
   "execution_count": null,
   "metadata": {},
   "outputs": [],
   "source": [
    "print \"Soucet\"\n",
    "a+b\n",
    "print \"Soucin\"\n",
    "a*b\n",
    "print \"Sta mocnina prvku $a$\"\n",
    "a^100\n",
    "print \"Inverzni prvek k $a$\"\n",
    "c = a^-1\n",
    "c\n",
    "print \"Test inverze\"\n",
    "c*a"
   ]
  },
  {
   "cell_type": "markdown",
   "metadata": {},
   "source": [
    "Na algebraických operacích není tedy nic překvapivého. SageMath nám ale umožňuje zjistit zajímavé informace o tělese $T$ samotném. Už jsme si ukázali, jak zjistit modul, vůči kterému počítáme. Dále máme k dispozici následující vlastnosti tělesa $T$. Začněme několika základními."
   ]
  },
  {
   "cell_type": "code",
   "execution_count": null,
   "metadata": {},
   "outputs": [],
   "source": [
    "print \"Rad telesa (pocet prvku)\"\n",
    "T.order()\n",
    "print \"T je skutecne teleso\"\n",
    "T.is_field()\n",
    "print \"Modul\"\n",
    "T.modulus()\n",
    "print \"Charakteristika $T$\"\n",
    "T.characteristic()"
   ]
  },
  {
   "cell_type": "markdown",
   "metadata": {},
   "source": [
    "Na každé těleso se můžeme dívat jako na rozšíření jeho prvotělesa."
   ]
  },
  {
   "cell_type": "code",
   "execution_count": null,
   "metadata": {},
   "outputs": [],
   "source": [
    "print \"Prvoteleso naseho $T$\"\n",
    "T.prime_subfield()    # prvopodteleso telesa T\n",
    "T.base_ring()         # T je nyni chapano jako rozsireni sveho prvotelesa (default), metoda base_ring je obecnejsi metoda, ktera nam vraci zakladni okruh, nad kterym zrovna bydlime\n",
    "print \"Pripomenme, ze hodnota naseho $p$ je...\"\n",
    "p\n",
    "print \"Stupen $T$ jakozto rozsireni nad $GF(p)$\"\n",
    "T.degree()\n",
    "print \"Pripomenme, ze hodnota naseho $n$ je...\"\n",
    "n"
   ]
  },
  {
   "cell_type": "markdown",
   "metadata": {},
   "source": [
    "O multiplikativní grupě tělesa $T$, $T^* = (T\\smallsetminus\\{0\\},\\cdot)$ víme, že je cyklická. Sage nám umožňuje hledat její generátory (tzv. primitivní prvky)."
   ]
  },
  {
   "cell_type": "code",
   "execution_count": null,
   "metadata": {},
   "outputs": [],
   "source": [
    "a = T.primitive_element()    # Odpoved SageMath by v tomto pripada nemela byt prekvapiva!\n",
    "a"
   ]
  },
  {
   "cell_type": "markdown",
   "metadata": {},
   "source": [
    "Ověřme, že $a = x$ je skutečně generátorem. Stačí (a v našem případě to stále ještě lze) ověřit, že negeneruje netriviální podgrupu. (Ověření provedeme poměrně brutální metodou...)"
   ]
  },
  {
   "cell_type": "code",
   "execution_count": null,
   "metadata": {},
   "outputs": [],
   "source": [
    "multi_order = T.order()-1     # rad multiplikativni grupy\n",
    "divs = divisors(multi_order)  # delitele radu\n",
    "print \"Delitele radu multiplikativni grupy:\"\n",
    "divs\n",
    "for k in divs:\n",
    "    a^k                       # mocniny prvku $a$ na delitel radu.\n",
    "del(multi_order,divs)"
   ]
  },
  {
   "cell_type": "code",
   "execution_count": null,
   "metadata": {},
   "outputs": [],
   "source": []
  },
  {
   "cell_type": "markdown",
   "metadata": {},
   "source": [
    "Vidíme, že výsledek $1$ dostáváme pouze pro poslední prvek seznamu (což je řád multiplikativní grupy). Pro netriviální dělitele $1$ nezískáváme a $a$ proto negeneruje grupu menšího řádu."
   ]
  },
  {
   "cell_type": "markdown",
   "metadata": {},
   "source": [
    "Hledání primitivního prvku je zajímavější úloha. Podívejme se, jak ji SageMath vykonává."
   ]
  },
  {
   "cell_type": "code",
   "execution_count": null,
   "metadata": {},
   "outputs": [],
   "source": [
    "T.multiplicative_generator??"
   ]
  },
  {
   "cell_type": "markdown",
   "metadata": {},
   "source": [
    "\n",
    "Metoda ``gen`` nevrací generátor ve smyslu generátoru cyklické grupy, ale generátor ve smyslu matematického objektu SageMath. V našem případě jsem výše tento prvek označili symbolem ``xx``. V této konstrukci jde obecně přímo o formální proměnnou polynomů, se kterými pracujeme.\n",
    "\n",
    "Z posledních několika řádků metody ``multiplicative_generator`` je vidět, že hledání primitivního prvku v SageMath není nijak sofistikované, naopak... Tedy je [prostor pro zlepšení](http://www.sagemath.org/development.html).\n",
    "\n",
    "Druhou variantou je použít konstruktor konečného tělesa takto ``GF(5^40, modulus=\"primitive\")``. Bude nám vybrán polynom, jehož kořen bude primitivním prvkem a nebude co počítat."
   ]
  },
  {
   "cell_type": "code",
   "execution_count": null,
   "metadata": {},
   "outputs": [],
   "source": []
  },
  {
   "cell_type": "markdown",
   "metadata": {},
   "source": [
    "Na závěr znovu poznamenejme, jak lze vytvořit konečné těleso řádu $p^n$, s vlastním ireducibilním polynomem. Existují dvě možnosti. První možností je přímo použít faktorizační proceduru:"
   ]
  },
  {
   "cell_type": "code",
   "execution_count": null,
   "metadata": {},
   "outputs": [],
   "source": [
    "p = 587                             # budouci charakteristika\n",
    "R.<y> = PolynomialRing(GF(p))       # $R$ je okruh vsech polynomu nad $GF(p)$ v promenne $y$\n",
    "f = y^7 + 585*y^5 + y^2 + y + 3     # zvoleny ireducibilni polynom\n",
    "f.is_irreducible()                  # $f$ skutecne je ireducibilni nad $GF(p)$\n",
    "I = R.principal_ideal(f)            # hlavni ideal okruhu $R$ generovany prvekem $f$\n",
    "T1 = QuotientRing(R,I)              # Faktorokruh $T$ vzhledem k $I$, ocekavane teleso\n",
    "T1"
   ]
  },
  {
   "cell_type": "markdown",
   "metadata": {},
   "source": [
    "Druhou možností je opět použití příkazu ``GF``."
   ]
  },
  {
   "cell_type": "code",
   "execution_count": null,
   "metadata": {},
   "outputs": [],
   "source": [
    "T2 = GF(587^7, name='y', modulus=f)\n",
    "T2\n",
    "T2.modulus()"
   ]
  },
  {
   "cell_type": "markdown",
   "metadata": {},
   "source": [
    "## Rozšíření těles"
   ]
  },
  {
   "cell_type": "markdown",
   "metadata": {},
   "source": [
    "### Konstrukce rozšíření"
   ]
  },
  {
   "cell_type": "markdown",
   "metadata": {},
   "source": [
    "Z přednášky víme, že každé těleso $T$ lze chápat jako vektorový prostor nad libovolným jeho podtělesem $K$. Těleso $K$ pak také nazýváme rozšířením tělesa $K$. V této sekci si ukážeme některé pojmy z přednášky na konkrétním příkladě $T = GF(2^8)$."
   ]
  },
  {
   "cell_type": "code",
   "execution_count": null,
   "metadata": {},
   "outputs": [],
   "source": [
    "T = GF(2^8,name='x')"
   ]
  },
  {
   "cell_type": "markdown",
   "metadata": {},
   "source": [
    "Sage automaticky chápe $GF(2^8)$ jako jednoduché rozšíření jeho prvotělesa $GF(2)$."
   ]
  },
  {
   "cell_type": "code",
   "execution_count": null,
   "metadata": {},
   "outputs": [],
   "source": [
    "T.base_ring()\n",
    "T.degree()"
   ]
  },
  {
   "cell_type": "markdown",
   "metadata": {},
   "source": [
    "Z přednášky víme, že $GF(2^k)$ je podtělesem $GF(2^8)$, právě když $k$ je dělitel čísla 8. $GF(2^8)$ má proto pouze podtělesa $GF(2^k)$ pro následující $k$ (zahrnujeme i triviální podtělesa)."
   ]
  },
  {
   "cell_type": "code",
   "execution_count": null,
   "metadata": {},
   "outputs": [],
   "source": [
    "divisors(T.degree())"
   ]
  },
  {
   "cell_type": "code",
   "execution_count": null,
   "metadata": {},
   "outputs": [],
   "source": [
    "subs = T.subfields()\n",
    "subs"
   ]
  },
  {
   "cell_type": "markdown",
   "metadata": {},
   "source": [
    "Uvažme $T$ jakožto rozšíření $K = GF(2^4)$."
   ]
  },
  {
   "cell_type": "code",
   "execution_count": null,
   "metadata": {},
   "outputs": [],
   "source": [
    "K.<y> = GF(2^4)\n",
    "K"
   ]
  },
  {
   "cell_type": "markdown",
   "metadata": {},
   "source": [
    "Buď $R$ okruh polynomů v proměnné $z$ nad $K$."
   ]
  },
  {
   "cell_type": "code",
   "execution_count": null,
   "metadata": {},
   "outputs": [],
   "source": [
    "R.<z> = PolynomialRing(K)"
   ]
  },
  {
   "cell_type": "markdown",
   "metadata": {},
   "source": [
    "Zvolme ireducibilní polynom z $R$."
   ]
  },
  {
   "cell_type": "code",
   "execution_count": null,
   "metadata": {},
   "outputs": [],
   "source": [
    "g = z^2+y*z+1\n",
    "g.is_irreducible()"
   ]
  },
  {
   "cell_type": "markdown",
   "metadata": {},
   "source": [
    "Hledané rozšíření tělesa $K$ pak získáme faktorizací okruhu $R$ vůči hlavnímu ideálu generovanému $g$."
   ]
  },
  {
   "cell_type": "code",
   "execution_count": null,
   "metadata": {},
   "outputs": [],
   "source": [
    "I = R.principal_ideal(g)\n",
    "extK = QuotientRing(R,I)\n",
    "print 'rad rozsireni'\n",
    "extK.order()\n",
    "extK.base_ring()"
   ]
  },
  {
   "cell_type": "code",
   "execution_count": null,
   "metadata": {},
   "outputs": [],
   "source": []
  },
  {
   "cell_type": "markdown",
   "metadata": {},
   "source": [
    "### Polynomiální báze\n",
    "Jako jednoduchý příklad uvažme těleso $T = GF(2^8)$ chápané jako vektorový prostor nad $GF(2)$.\n",
    "#### Sestrojení báze"
   ]
  },
  {
   "cell_type": "code",
   "execution_count": null,
   "metadata": {},
   "outputs": [],
   "source": [
    "T.<x> = GF(2^8)\n",
    "T\n",
    "T.base_ring()"
   ]
  },
  {
   "cell_type": "markdown",
   "metadata": {},
   "source": [
    "Příslušný vektorový prostor označme symbolem $V$. $V$ je tedy vektorový prostor $T$ nad $GF(2)$."
   ]
  },
  {
   "cell_type": "code",
   "execution_count": null,
   "metadata": {},
   "outputs": [],
   "source": [
    "V = T.vector_space()\n",
    "V"
   ]
  },
  {
   "cell_type": "markdown",
   "metadata": {},
   "source": [
    "Báze tvořená prvky $(1,x,\\ldots,x^7)$ se v tomto případě nazývá polynomiální bází."
   ]
  },
  {
   "cell_type": "code",
   "execution_count": null,
   "metadata": {},
   "outputs": [],
   "source": [
    "polyB = [ T(v) for v in V.basis() ] # V.basis() vraci standardni bazi V\n",
    "polyB"
   ]
  },
  {
   "cell_type": "markdown",
   "metadata": {},
   "source": [
    "Uvažme dva testovací prvky našeho tělesa $T$."
   ]
  },
  {
   "cell_type": "code",
   "execution_count": null,
   "metadata": {},
   "outputs": [],
   "source": [
    "f = x^2 + 1\n",
    "g = x^6 + x^3 + x"
   ]
  },
  {
   "cell_type": "markdown",
   "metadata": {},
   "source": [
    "Jejich souřadnice vzhledem k polynomiální bázi lze snadno získat pomocí příkazu **_vector_**."
   ]
  },
  {
   "cell_type": "code",
   "execution_count": null,
   "metadata": {},
   "outputs": [],
   "source": [
    "vecf = f._vector_(reverse=True)\n",
    "vecg = g._vector_()\n",
    "print 'Souradnice $f$'\n",
    "vecf\n",
    "print 'Souradnice $g$'\n",
    "vecg"
   ]
  },
  {
   "cell_type": "markdown",
   "metadata": {},
   "source": [
    "#### Sčítání\n",
    "Operace sčítání vektorů po složkách (v každé složce modulo 2) odpovídá sčítání v $T$. Přesvědčíme se o tom například v následujícím pokusu."
   ]
  },
  {
   "cell_type": "code",
   "execution_count": null,
   "metadata": {},
   "outputs": [],
   "source": [
    "print 'Soucet polynomu $f+g$'\n",
    "f + g\n",
    "print 'Soucet prislusnych vektoru'\n",
    "vecf + vecg\n",
    "print 'Soucet prislusnych vektoru prevedeny zpet do polynomialni reprezentace'\n",
    "T(vecf + vecg)"
   ]
  },
  {
   "cell_type": "markdown",
   "metadata": {},
   "source": [
    "#### Násobení\n",
    "Násobení je komplikovanější. V obecném vektorovém prostoru neexistuje kanonický způsob násobení dvou vektorů s vektorovým výstupem (známý vektorový součin funguje pouze v $\\mathbb{R}^3$)."
   ]
  },
  {
   "cell_type": "code",
   "execution_count": null,
   "metadata": {},
   "outputs": [],
   "source": [
    "f * g"
   ]
  },
  {
   "cell_type": "markdown",
   "metadata": {},
   "source": [
    "Náš vektorový prostor je ale zároveň tělesem. Pro fixní $f$ lze zobrazení $g \\mapsto f*g$ chápat jako lineární zobrazení! Sestrojme jeho matici v naší polynomiální bázi. SageMath má pro tento účel dokonce rovnou zabudovanou funkci. Pro další referenci si tuto matici označme $M_f$."
   ]
  },
  {
   "cell_type": "code",
   "execution_count": null,
   "metadata": {},
   "outputs": [],
   "source": [
    "matf = f._matrix_()\n",
    "print 'Matice zobrazeni nasobeni vektorem $f$'\n",
    "show(matf)"
   ]
  },
  {
   "cell_type": "markdown",
   "metadata": {},
   "source": [
    "Součinu $f\\cdot g$ v $T$ pak odpovídá vektor $M_f g$, kde pod $g$ máme na mysli vektorovou reprezentaci $g$."
   ]
  },
  {
   "cell_type": "code",
   "execution_count": null,
   "metadata": {},
   "outputs": [],
   "source": [
    "print 'Soucin jako vektor'\n",
    "matf * vecg\n",
    "print 'Soucin jako polynom'\n",
    "T(matf * vecg)\n",
    "print 'Soucin v telese'\n",
    "f*g"
   ]
  },
  {
   "cell_type": "markdown",
   "metadata": {},
   "source": [
    "Připomeňme, jak lze matici lineárního zobrazení sestrojit (bez odvolání se na příkaz ``_matrix_``). Sloupce matice $M_f$ představují součiny $f$ a vektorů polynomiální báze v polynomiální bázi. Přesněji:"
   ]
  },
  {
   "cell_type": "code",
   "execution_count": null,
   "metadata": {},
   "outputs": [],
   "source": [
    "mymatf = matrix(T.base_ring(),[ (f * b)._vector_() for b in polyB ]).transpose() # matice s koeficienty z GF(2)\n",
    "mymatf == matf"
   ]
  },
  {
   "cell_type": "markdown",
   "metadata": {},
   "source": [
    "Alternativní metodou je vyjádřit násobení jako bilineární zobrazení $V \\times V \\to V$. Je-li $\\mathcal{B} = (b_0,b_1,\\ldots,b_7)$ standardní báze, pak pro součin dvou vektorů $f$ a $g$ platí\n",
    "$$ f \\cdot g = \\sum_{i=0}^7 \\sum_{j=0}^7 f_i f_j (b_i \\cdot b_j), $$\n",
    "kde $(f_i)$ a $(f_j)$ jsou souřadnice $f$ a $g$ vzhledem k $B$ a tečka označuje násobení v $T$."
   ]
  },
  {
   "cell_type": "code",
   "execution_count": null,
   "metadata": {},
   "outputs": [],
   "source": [
    "bilinear = matrix(T, T.degree(), T.degree(), lambda i,j: x^i * x^j) # 'matice' bilinearni formy\n",
    "bilinear"
   ]
  },
  {
   "cell_type": "markdown",
   "metadata": {},
   "source": [
    "Násobení pak provedeme \"obložením\" takto jednou napočtené matice a souřadnicemi příslušných vektorů. Protože jsme v matici nechali rovnou výrazy z $T$, dostaneme rovnou polynomiální výsledek."
   ]
  },
  {
   "cell_type": "code",
   "execution_count": null,
   "metadata": {},
   "outputs": [],
   "source": [
    "print 'nasobeni pomoci matice'\n",
    "vecf * bilinear * vecg\n",
    "print 'nasobeni v $T$'\n",
    "f*g"
   ]
  },
  {
   "cell_type": "markdown",
   "metadata": {},
   "source": [
    "### Normální báze"
   ]
  },
  {
   "cell_type": "markdown",
   "metadata": {},
   "source": [
    "Ve vektorovém prostoru máme nepřeberné množství různých bází. Pro různé operace může být výhodnější používat vhodně zvolenou bázi. V normálních bázích se například snadno mocní. Opět budeme pracovat v $T = GF(2^8)$ chápaném jako vektorový prosto $V$ nad $GF(2)$."
   ]
  },
  {
   "cell_type": "code",
   "execution_count": null,
   "metadata": {},
   "outputs": [],
   "source": [
    "T.<x> = GF(2^8)\n",
    "T\n",
    "V = T.vector_space()\n",
    "V"
   ]
  },
  {
   "cell_type": "markdown",
   "metadata": {},
   "source": [
    "Zvolme nyní následující prvek tělesa $T$."
   ]
  },
  {
   "cell_type": "code",
   "execution_count": null,
   "metadata": {},
   "outputs": [],
   "source": [
    "a = x^7 + x^5 + x^2 + 1"
   ]
  },
  {
   "cell_type": "markdown",
   "metadata": {},
   "source": [
    "Normální báze je báze tvaru $(a,a^{2},a^{2^2},\\ldots,a^{2^7})$. Je nutné ověřit, že tento soubor je lineárně nezávislý a tvoří skutečně bázi! To není automaticky splněno (zvolte např. $a=1$)."
   ]
  },
  {
   "cell_type": "code",
   "execution_count": null,
   "metadata": {},
   "outputs": [],
   "source": [
    "normalB = [ a^(2^i) for i in range(T.degree()) ]\n",
    "print 'soubor vektoru:'\n",
    "normalB\n",
    "print 'jeho delka:'\n",
    "len(normalB)"
   ]
  },
  {
   "cell_type": "markdown",
   "metadata": {},
   "source": [
    "Otestujme lineární nezávislost (případně máme i kritérium z přednášky)."
   ]
  },
  {
   "cell_type": "code",
   "execution_count": null,
   "metadata": {},
   "outputs": [],
   "source": [
    "W = [ b._vector_() for b in normalB ] # soubor vektoru z V\n",
    "W"
   ]
  },
  {
   "cell_type": "code",
   "execution_count": null,
   "metadata": {},
   "outputs": [],
   "source": [
    "V.span(W).dimension() # dimenze linearniho obalu W (vzhledem k strukture V)"
   ]
  },
  {
   "cell_type": "markdown",
   "metadata": {},
   "source": [
    "Námi zvolený soubor proto skutečně tvoří bázi. Pro snadné počítání se souřadnicemi vzhledem k této bázi nám Sage poskytuje následující metody."
   ]
  },
  {
   "cell_type": "code",
   "execution_count": null,
   "metadata": {},
   "outputs": [],
   "source": [
    "def back(coords, basis):\n",
    "    \"\"\"\n",
    "    Vrati lineerni kombinaci vektoru z basis s koeficienty z coords.\n",
    "    \"\"\"\n",
    "    return sum( [ coords[i] * basis[i] for i in range(len(basis)) ] )"
   ]
  },
  {
   "cell_type": "code",
   "execution_count": null,
   "metadata": {},
   "outputs": [],
   "source": [
    "normalV = V.span_of_basis(W) # V s nami zvolenou normalni bazi\n",
    "print 'Testovaci prvek'\n",
    "f = x^6 + x^4 + x\n",
    "f\n",
    "print 'Souradnice v normalni bazi'\n",
    "coordsf = normalV.coordinates(f)      # jeho souradnice vzhledem k normalni bazi\n",
    "coordsf\n",
    "print 'a zpet'\n",
    "back(coordsf, normalB)"
   ]
  },
  {
   "cell_type": "markdown",
   "metadata": {},
   "source": [
    "Z přednášky víme, že mocnění lze v normální bázi realizovat jako pouhé cyklické posunutí souřadnic. Ověřme si to na našem příkladě. Vypočtěme souřadnice mocnin $f^{2^i}$."
   ]
  },
  {
   "cell_type": "code",
   "execution_count": null,
   "metadata": {},
   "outputs": [],
   "source": [
    "for i in range(T.degree()):\n",
    "    print '======='\n",
    "    print 'i =', i\n",
    "    print 'souradnice v normalni bazi'\n",
    "    print normalV.coordinates(f^(2^i))\n",
    "    print 'samotna mocnina'\n",
    "    print f^(2^i)"
   ]
  },
  {
   "cell_type": "markdown",
   "metadata": {},
   "source": [
    "Na závěr poznamenejme, že operace sčítání opět působí jednoduše po složkách. Operace obyčejného násobení v normální bázi nemá žádné zvláštní vlastnosti. Mocnění má výše pozorovnanou vlastnost pouze, pokud mocníme na **řád** příslušného podtělesa."
   ]
  },
  {
   "cell_type": "code",
   "execution_count": null,
   "metadata": {},
   "outputs": [],
   "source": []
  },
  {
   "cell_type": "markdown",
   "metadata": {},
   "source": [
    "### Ukázka práce nad větším podtělesem\n",
    "Uvažme opět $T = GF(2^8)$ a chápejme ho jako rozšíření tělesa $GF(2^4)$. Tento příklad jsme uvažovali již v předcházejícím textu, proto pouze rychle vytvoříme potřebné objekty."
   ]
  },
  {
   "cell_type": "code",
   "execution_count": null,
   "metadata": {},
   "outputs": [],
   "source": [
    "K.<x> = GF(2^4)\n",
    "R.<y> = PolynomialRing(K)\n",
    "g = y^2 + x*y + 1\n",
    "T = K.extension(g)\n",
    "T.order()\n",
    "T"
   ]
  },
  {
   "cell_type": "markdown",
   "metadata": {},
   "source": [
    "Vektorový prostor nad $K$ dimenze $2$, tj. stupně definujícího prvku $g$."
   ]
  },
  {
   "cell_type": "code",
   "execution_count": null,
   "metadata": {},
   "outputs": [],
   "source": [
    "V = VectorSpace(K,g.degree())\n",
    "V"
   ]
  },
  {
   "cell_type": "markdown",
   "metadata": {},
   "source": [
    "Polynomiální báze."
   ]
  },
  {
   "cell_type": "code",
   "execution_count": null,
   "metadata": {},
   "outputs": [],
   "source": [
    "polyB = [1,y]"
   ]
  },
  {
   "cell_type": "markdown",
   "metadata": {},
   "source": [
    "Testovací element."
   ]
  },
  {
   "cell_type": "code",
   "execution_count": null,
   "metadata": {},
   "outputs": [],
   "source": [
    "f = x^3*y+x"
   ]
  },
  {
   "cell_type": "markdown",
   "metadata": {},
   "source": [
    "Nyní je potřeba dvou pomocných funkcí."
   ]
  },
  {
   "cell_type": "code",
   "execution_count": null,
   "metadata": {},
   "outputs": [],
   "source": [
    "def toV(poly):\n",
    "    \"\"\"\n",
    "    Nalezne souradnice poly ve standardni (tj. zde polynomialni) bazi V\n",
    "    \"\"\"\n",
    "    return V(poly.polynomial(y).padded_list())\n",
    "def back(coords,basis):\n",
    "    \"\"\"\n",
    "    Vrati linearni kombinaci vektoru z basis s koeficienty coords (mysleno v $T$)\n",
    "    \"\"\"\n",
    "    return T(sum( [ coords[i] * basis[i] for i in range(len(basis)) ] ))"
   ]
  },
  {
   "cell_type": "code",
   "execution_count": null,
   "metadata": {},
   "outputs": [],
   "source": [
    "print 'testovaci $f$'\n",
    "f\n",
    "print 'souradnice $f$'\n",
    "toV(f)\n",
    "print 'vyjadreni opet v $T$'\n",
    "print back(toV(f),polyB)"
   ]
  },
  {
   "cell_type": "markdown",
   "metadata": {},
   "source": [
    "Podívejme se opět na operaci násobení v $T$, pracujeme v polynomiální bázi."
   ]
  },
  {
   "cell_type": "code",
   "execution_count": null,
   "metadata": {},
   "outputs": [],
   "source": [
    "bilinear = matrix(T, T.degree(), T.degree(), lambda i,j: y^i * y^j) # 'matice' bilinearni formy\n",
    "show(bilinear)"
   ]
  },
  {
   "cell_type": "code",
   "execution_count": null,
   "metadata": {},
   "outputs": [],
   "source": [
    "veca = V([K.random_element(),K.random_element()])\n",
    "vecb = V([K.random_element(),K.random_element()])\n",
    "print 'testovaci vektor $a$'\n",
    "veca\n",
    "print 'testovaci vektor $b$'\n",
    "vecb"
   ]
  },
  {
   "cell_type": "markdown",
   "metadata": {},
   "source": [
    "Součin pomocí maticového násobení a ověření výpočtem v $T$."
   ]
  },
  {
   "cell_type": "code",
   "execution_count": null,
   "metadata": {},
   "outputs": [],
   "source": [
    "print 'Dle matice'\n",
    "c1 = veca * bilinear * vecb\n",
    "c1\n",
    "print 'Dle operaci v $T$'\n",
    "c2 = back(veca,polyB) * back(vecb,polyB)\n",
    "c2\n",
    "print 'Test rovnosti'\n",
    "c1 == c2"
   ]
  },
  {
   "cell_type": "code",
   "execution_count": null,
   "metadata": {},
   "outputs": [],
   "source": []
  }
 ],
 "metadata": {
  "kernelspec": {
   "display_name": "Python 2",
   "language": "python",
   "name": "python2"
  },
  "language_info": {
   "codemirror_mode": {
    "name": "ipython",
    "version": 2
   },
   "file_extension": ".py",
   "mimetype": "text/x-python",
   "name": "python",
   "nbconvert_exporter": "python",
   "pygments_lexer": "ipython2",
   "version": "2.7.12"
  }
 },
 "nbformat": 4,
 "nbformat_minor": 1
}
